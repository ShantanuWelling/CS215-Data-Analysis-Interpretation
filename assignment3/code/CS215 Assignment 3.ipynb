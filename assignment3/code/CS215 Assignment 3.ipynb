{
 "cells": [
  {
   "cell_type": "markdown",
   "metadata": {},
   "source": [
    "## CS215 Assignment 3\n",
    "### 210010076 Shantanu Welling\n",
    "### 210050044 Dhananjay Raman"
   ]
  },
  {
   "cell_type": "code",
   "execution_count": 1,
   "metadata": {},
   "outputs": [],
   "source": [
    "import numpy as np #Importing all relevant libraries\n",
    "import matplotlib.pyplot as plt"
   ]
  },
  {
   "cell_type": "code",
   "execution_count": 2,
   "metadata": {},
   "outputs": [],
   "source": [
    "np.random.seed(10) #Set random seed"
   ]
  },
  {
   "cell_type": "markdown",
   "metadata": {},
   "source": [
    "## Q1"
   ]
  },
  {
   "cell_type": "code",
   "execution_count": 3,
   "metadata": {},
   "outputs": [],
   "source": [
    "#Defining necessary constants\n",
    "N=[5, 10, 20, 40, 60, 80, 100, 500, 1000, 10000] #Sample sizes list\n",
    "M=200 #Number of times to repeat the experiment\n",
    "true_mean=10 #True mean of the distribution from which the data is drawn\n",
    "true_std=4 #True standard deviation of the distribution from which the data is drawn\n",
    "prior_mean=10.5 #Prior distribution mean\n",
    "prior_std=1 #Prior distribution standard deviation\n",
    "true_var=true_std**2 #True variance of the distribution from which the data is drawn\n",
    "prior_var=prior_std**2 #Prior distribution variance"
   ]
  },
  {
   "cell_type": "code",
   "execution_count": 4,
   "metadata": {},
   "outputs": [],
   "source": [
    "mle=[] #List of MLE for all sample sizes\n",
    "map1=[] #List of MAP estimate 1 (Gaussian prior) for all sample sizes\n",
    "map2=[] #List of MAP estimate 2 (Uniform prior) for all sample sizes\n",
    "for n in N: #For a given sample size\n",
    "    xmean=[] #List of ML estimate for a given sample size across M experiments\n",
    "    xmap1=[] #List of MAP estimate 1 (Gaussian prior) for a given sample size across M experiments\n",
    "    xmap2=[] #List of MAP estimate 2 (Uniform prior) for a given sample size across M experiments\n",
    "    for i in range(M): #Repeat experiment M times\n",
    "        #Draw data sample of n points from Gaussian with loc=10 (true_mean) and scale=4 (true_std)\n",
    "        u=np.sum(np.random.normal(loc=true_mean, scale=true_std, size=n))/n #Sample mean estimate (MLE)\n",
    "        xmean.append(u) #Append sample mean\n",
    "        # Since data is drawn from Gaussian distribution and prior is Gaussian, product of 2 Gaussian PDFs\n",
    "        # is another Gaussian, and the MAP estimate for mu is the mean of this new Gaussian\n",
    "        xmap1.append((u*prior_var+prior_mean*true_var/n)/(prior_var+true_var/n))\n",
    "        # If the ML estimate lies within the range of uniform distribution, then the MAP estimate is the ML\n",
    "        # estimate, since the prior is uniform on that range (scales it by constant and equal probability) \n",
    "        if(u<=11.5 and u>=9.5):\n",
    "            xmap2.append(u)\n",
    "        elif (u>11.5): \n",
    "            # If it lies on the right of the range of uniform distribution, then the MAP is the upper limit\n",
    "            # of the uniform distribution, else if it lies on the left of the range of uniform distribution,\n",
    "            # then the MAP is the lower limit of the uniform distribution\n",
    "            xmap2.append(11.5)\n",
    "        elif (u<9.5):\n",
    "            xmap2.append(9.5)\n",
    "    mle.append(xmean) #Add list of estimates repeated across M experiments to the final list\n",
    "    map1.append(xmap1)\n",
    "    map2.append(xmap2)"
   ]
  },
  {
   "cell_type": "code",
   "execution_count": 5,
   "metadata": {},
   "outputs": [],
   "source": [
    "res=[] #Result data for boxplot\n",
    "mle=np.array(mle) #Calculate relative errors for all estimates and append it to result list\n",
    "res.append(abs(mle-true_mean)/true_mean)\n",
    "map1=np.array(map1)\n",
    "res.append(abs(map1-true_mean)/true_mean)\n",
    "map2=np.array(map2)\n",
    "res.append(abs(map2-true_mean)/true_mean)"
   ]
  },
  {
   "cell_type": "code",
   "execution_count": 6,
   "metadata": {},
   "outputs": [],
   "source": [
    "fig=plt.figure(figsize=(14,5)) #Boxplot of relative errors for each value of N, for all 3 estimates\n",
    "ax=plt.axes()\n",
    "colors=['pink', 'lightblue', 'palegreen'] #Colors for boxplot\n",
    "c2=[\"maroon\", \"navy\", 'darkslategray'] #Colors for median line\n",
    "for i in range(3):\n",
    "    bp=plt.boxplot(list(res[i]), positions=[i+4*j for j in range(10)], widths=0.8, patch_artist=True, boxprops=dict(facecolor=colors[i]), medianprops = dict(color=c2[i], lw=1.5), flierprops=dict(markerfacecolor=colors[i]))\n",
    "ax.set_xticks([4*i+1 for i in range(10)]) #Set ticks\n",
    "ax.set_xticklabels(N) #Set labels\n",
    "ax.set_xlabel(\"Sample Size (N)\") #Set X, Y axes labels and title\n",
    "ax.set_ylabel('Relative Error in Estimates')\n",
    "ax.set_title(\"Boxplot of Relative Errors in Estimates\")\n",
    "ax.plot([], c=colors[0], label=\"ML Estimate ($\\hat{\\mu}^{ML}$)\")\n",
    "ax.plot([], c=colors[1], label='MAP Estimate 1 ($\\hat{\\mu}^{MAP_{1}}$)')\n",
    "ax.plot([], c=colors[2], label='MAP Estimate 2 ($\\hat{\\mu}^{MAP_{2}}$)')\n",
    "leg=ax.legend(fontsize=14) #Set legend\n",
    "leg.get_lines()[0].set_linewidth(8)\n",
    "leg.get_lines()[1].set_linewidth(8)\n",
    "leg.get_lines()[2].set_linewidth(8)\n",
    "plt.savefig(\"../results/Q1.jpg\",dpi=600)\n",
    "plt.close();"
   ]
  },
  {
   "cell_type": "markdown",
   "metadata": {},
   "source": [
    "## Q2"
   ]
  },
  {
   "cell_type": "code",
   "execution_count": 7,
   "metadata": {},
   "outputs": [],
   "source": [
    "#Defining necessary constants\n",
    "N=[5, 10, 20, 40, 60, 80, 100, 500, 1000, 10000] #Sample sizes list\n",
    "M=100 #Number of times to repeat the experiment\n",
    "a=5.5 #Gamma prior α parameter\n",
    "b=1   #Gamma prior β parameter\n",
    "lmbda=5 #True value of λ"
   ]
  },
  {
   "cell_type": "code",
   "execution_count": 8,
   "metadata": {},
   "outputs": [],
   "source": [
    "y_mle=[] #List of MLE for all sample sizes\n",
    "y_mean=[] #List of Bayesian posterior mean estimate for all sample sizes\n",
    "for n in N: #For a given sample size\n",
    "    mle=[] #List of ML estimate for a given sample size across M experiments\n",
    "    pstr_mean=[] #List of Bayesian posterior mean estimate for a given sample size across M experiments\n",
    "    for i in range(M):\n",
    "        x=np.array(np.random.uniform(size=n)) #Data sample of n points from uniform distribution on [0,1]\n",
    "        y=-(0.2)*np.log(x) #Transformed data sample\n",
    "        mle.append(n/np.sum(y)) #Calculate MLE of the sample data for this experiment and add it to the list\n",
    "        # Calculate Bayesian posterior mean estimate according to the derived formula (in the report)\n",
    "        pstr_mean.append((a+n)/(np.sum(y)+b)) # Add it to the pstr_mean list \n",
    "    y_mle.append(mle) #Add list of estimates repeated across M experiments to the final list\n",
    "    y_mean.append(pstr_mean)"
   ]
  },
  {
   "cell_type": "code",
   "execution_count": 9,
   "metadata": {},
   "outputs": [],
   "source": [
    "result=[] #Result data for boxplot\n",
    "y_mle=np.array(y_mle)  #Calculate relative errors for all estimates and append it to results\n",
    "result.append(abs(y_mle-lmbda)/lmbda)\n",
    "y_mean=np.array(y_mean)\n",
    "result.append(abs(y_mean-lmbda)/lmbda)"
   ]
  },
  {
   "cell_type": "code",
   "execution_count": 10,
   "metadata": {},
   "outputs": [],
   "source": [
    "fig=plt.figure(figsize=(10,5)) #Boxplot of relative errors for each value of N, for both estimates\n",
    "ax=plt.axes()\n",
    "colors=['pink', 'lightgreen'] #Colors for boxplot\n",
    "c2=[\"maroon\", \"navy\"] #Colors for median line\n",
    "for i in range(2):\n",
    "    bp=plt.boxplot(list(result[i]), positions=[0.55*i+1.35*j for j in range(10)], widths=0.5, patch_artist=True, boxprops=dict(facecolor=colors[i]),medianprops = dict(color=c2[i], lw=1.2), flierprops=dict(markerfacecolor=colors[i]))\n",
    "ax.set_xticks([1.35*i+0.28 for i in range(10)]) #Set ticks\n",
    "ax.set_xticklabels(N) #Set tick labels\n",
    "ax.set_xlabel(\"Sample Size (N)\") #Set X, Y axes labels and title\n",
    "ax.set_ylabel('Relative Error in Estimates')\n",
    "ax.set_title(\"Boxplot of Relative Errors in Estimates\")\n",
    "ax.plot([], c=colors[0], label='ML Estimate ($\\u03BB\\u0302^{ML}$)')\n",
    "ax.plot([], c=colors[1], label='Posterior Mean Estimate ($\\u03BB\\u0302^{PosteriorMean}$)')\n",
    "leg=ax.legend(fontsize=14) #Set legend\n",
    "leg.get_lines()[0].set_linewidth(8)\n",
    "leg.get_lines()[1].set_linewidth(8)\n",
    "plt.savefig(\"../results/Q2.jpg\",dpi=600)\n",
    "plt.close();"
   ]
  }
 ],
 "metadata": {
  "kernelspec": {
   "display_name": "Python 3.9.7 ('base')",
   "language": "python",
   "name": "python3"
  },
  "language_info": {
   "codemirror_mode": {
    "name": "ipython",
    "version": 3
   },
   "file_extension": ".py",
   "mimetype": "text/x-python",
   "name": "python",
   "nbconvert_exporter": "python",
   "pygments_lexer": "ipython3",
   "version": "3.9.7"
  },
  "orig_nbformat": 4,
  "vscode": {
   "interpreter": {
    "hash": "d62f76953c40e0eb0a980b2a0207e2bb7d32bbe99bd995342cf9398946bdf024"
   }
  }
 },
 "nbformat": 4,
 "nbformat_minor": 2
}
