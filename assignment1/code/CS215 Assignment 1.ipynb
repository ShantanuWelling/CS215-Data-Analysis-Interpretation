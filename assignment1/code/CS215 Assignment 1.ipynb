{
 "cells": [
  {
   "cell_type": "markdown",
   "id": "146e2de2",
   "metadata": {},
   "source": [
    "# CS215 Assignment 1\n",
    "## 210010076 Shantanu Welling\n",
    "## 210050044 Dhananjay Raman"
   ]
  },
  {
   "cell_type": "markdown",
   "id": "9e03030d",
   "metadata": {},
   "source": [
    "### Importing all relevant libraries and defining constants"
   ]
  },
  {
   "cell_type": "code",
   "execution_count": 206,
   "id": "4bc08153",
   "metadata": {},
   "outputs": [],
   "source": [
    "import numpy as np\n",
    "import matplotlib.pyplot as plt\n",
    "import scipy.stats as stats\n",
    "import random\n",
    "import math as math\n",
    "infinity=1000"
   ]
  },
  {
   "cell_type": "markdown",
   "id": "5c6600e5",
   "metadata": {},
   "source": [
    "### Setting seed and opening results.txt file to write output into"
   ]
  },
  {
   "cell_type": "code",
   "execution_count": 207,
   "id": "163884f3",
   "metadata": {},
   "outputs": [],
   "source": [
    "random.seed(10)\n",
    "resfile=open('../results/results.txt','w')\n",
    "resfile.write('Q1 \\n');"
   ]
  },
  {
   "cell_type": "markdown",
   "id": "f26708b8",
   "metadata": {},
   "source": [
    "## **Q1**\n",
    "### Defining Useful functions"
   ]
  },
  {
   "cell_type": "code",
   "execution_count": 208,
   "id": "e7153fd2",
   "metadata": {},
   "outputs": [],
   "source": [
    "def cdf(pdf, x): ##to compute cdf using riemann sum\n",
    "    sum = np.zeros(len(x))\n",
    "    first = x[0]\n",
    "    for i in np.linspace(-infinity, first, 10000):\n",
    "        sum[0] += pdf(i)\n",
    "    for i in range(1,len(x)):\n",
    "        sum[i] = sum[i-1] + (x[i]-x[i-1])*pdf(x[i])\n",
    "    return sum\n",
    "\n",
    "def exp_x(pdf, points): ##expected value of x\n",
    "    sum = 0\n",
    "    step = 2*infinity/(2*points)\n",
    "    for i in np.linspace(-infinity, infinity, 2*points):\n",
    "        sum += i*pdf(i)*step\n",
    "    return sum\n",
    "\n",
    "def exp_x2(pdf, points): ##expected value of x^2\n",
    "    sum = 0\n",
    "    step = 2*infinity/(2*points)\n",
    "    for i in np.linspace(-infinity, infinity, 2*points):\n",
    "        sum += i*i*pdf(i)*step\n",
    "    return sum\n",
    "\n",
    "def var(pdf,points=10000): ##variance of x\n",
    "    return exp_x2(pdf, points) - (exp_x(pdf, points))**2"
   ]
  },
  {
   "cell_type": "markdown",
   "id": "f203b199",
   "metadata": {},
   "source": [
    "### Laplace Distribution"
   ]
  },
  {
   "cell_type": "code",
   "execution_count": 209,
   "id": "1714d4fa",
   "metadata": {},
   "outputs": [],
   "source": [
    "def laplacepdf(x,u=2,b=2): ##function to compute pdf of Laplace distribution with given loc and scale\n",
    "    return np.exp(-abs(x-u)/b)/(2*b)"
   ]
  },
  {
   "cell_type": "code",
   "execution_count": 210,
   "id": "f269c979",
   "metadata": {},
   "outputs": [],
   "source": [
    "x=np.linspace(-10,14,1000) ##input x"
   ]
  },
  {
   "cell_type": "code",
   "execution_count": 211,
   "id": "ff3f93e2",
   "metadata": {},
   "outputs": [],
   "source": [
    "plt.plot(x,laplacepdf(x),'r-') ##PDF plot of Laplace distribution\n",
    "plt.xlabel('x')\n",
    "plt.ylabel('Probability Density Function')\n",
    "plt.title('Laplace Distribution')\n",
    "plt.savefig(\"../results/laplacepdf.jpg\", dpi=1200)\n",
    "plt.close();"
   ]
  },
  {
   "cell_type": "code",
   "execution_count": 212,
   "id": "2094113e",
   "metadata": {},
   "outputs": [],
   "source": [
    "plt.plot(x, cdf(laplacepdf, x),'r-') ##CDF plot of Laplace Distribution\n",
    "plt.xlabel('x')\n",
    "plt.ylabel('Cumulative Distribution Function')\n",
    "plt.title('Laplace Distribution')\n",
    "plt.savefig(\"../results/laplacecdf.jpg\", dpi=1200)\n",
    "plt.close();"
   ]
  },
  {
   "cell_type": "code",
   "execution_count": 213,
   "id": "fd15fd47",
   "metadata": {},
   "outputs": [],
   "source": [
    "resfile.write(f\"Q1. (iii) Variance of Laplace distribution is {var(laplacepdf)} \\n\"); \n",
    "#store variance of Laplace distribution in results.txt file"
   ]
  },
  {
   "cell_type": "markdown",
   "id": "5f26dc73",
   "metadata": {},
   "source": [
    "### Gumbel Distribution"
   ]
  },
  {
   "cell_type": "code",
   "execution_count": 214,
   "id": "e3706829",
   "metadata": {},
   "outputs": [],
   "source": [
    "def gumbelpdf(x, u=1, b=2): ##compute Gumbel PDF\n",
    "    z=(x-u)/b\n",
    "    if(z>10): ##to prevent overflow\n",
    "        y=z\n",
    "    elif(z<-10):\n",
    "        return 0\n",
    "    else:\n",
    "        y = z+np.exp(-z)\n",
    "    return np.exp(-y)/b"
   ]
  },
  {
   "cell_type": "code",
   "execution_count": 215,
   "id": "24c5424f",
   "metadata": {},
   "outputs": [],
   "source": [
    "x=np.linspace(-10,10,1000) ##input x for Gumbel PDF\n",
    "res=[]\n",
    "for i in range(len(x)):\n",
    "    res.append(gumbelpdf(x[i]))\n",
    "plt.plot(x, res, 'r-') ##plot Gumbel PDF\n",
    "plt.xlabel('x')\n",
    "plt.ylabel('Probability Density Function')\n",
    "plt.title('Gumbel Distribution')\n",
    "plt.savefig(\"../results/gumbelpdf.jpg\", dpi=1200)\n",
    "plt.close();"
   ]
  },
  {
   "cell_type": "code",
   "execution_count": 216,
   "id": "e38109b6",
   "metadata": {},
   "outputs": [],
   "source": [
    "plt.plot(x, cdf(gumbelpdf,x)) ##Plot Gumbel CDF\n",
    "plt.xlabel('x')\n",
    "plt.ylabel('Cumulative Distribution Function')\n",
    "plt.title('Gumbel Distribution')\n",
    "plt.savefig(\"../results/gumbelcdf.jpg\", dpi=1200)\n",
    "plt.close();"
   ]
  },
  {
   "cell_type": "code",
   "execution_count": 217,
   "id": "645b4b61",
   "metadata": {},
   "outputs": [],
   "source": [
    "resfile.write(f\"Q1. (iii) Variance of Gumbel distribution is {var(gumbelpdf)} \\n\"); \n",
    "#store variance of Laplace distribution in results.txt file"
   ]
  },
  {
   "cell_type": "markdown",
   "id": "33333c6c",
   "metadata": {},
   "source": [
    "### Cauchy Distribution"
   ]
  },
  {
   "cell_type": "code",
   "execution_count": 218,
   "id": "d1703da7",
   "metadata": {},
   "outputs": [],
   "source": [
    "def cauchypdf(x,u=0,b=1): ##cauchy distribution PDF\n",
    "    return b/(np.pi*((x-u)**2+b**2))"
   ]
  },
  {
   "cell_type": "code",
   "execution_count": 219,
   "id": "ce41c0b1",
   "metadata": {},
   "outputs": [],
   "source": [
    "x=np.linspace(-1000,10,10000) ##input x for cauchy\n",
    "plt.plot(x[x>-10],cauchypdf(x)[x>-10],'r-')\n",
    "plt.xlabel('x')\n",
    "plt.ylabel('Probability Density Function')\n",
    "plt.title('Cauchy Distribution')\n",
    "plt.savefig(\"../results/cauchypdf.jpg\", dpi=1200)\n",
    "plt.close();"
   ]
  },
  {
   "cell_type": "code",
   "execution_count": 220,
   "id": "c86df59e",
   "metadata": {},
   "outputs": [],
   "source": [
    "plt.plot(x[x>-10],cdf(cauchypdf,x)[x>-10],'b-')\n",
    "plt.xlabel('x')\n",
    "plt.ylabel('Cumulative Distribution Function')\n",
    "plt.title('Cauchy Distribution')\n",
    "plt.savefig(\"../results/cauchycdf.jpg\", dpi=1200)\n",
    "plt.close();"
   ]
  },
  {
   "cell_type": "code",
   "execution_count": 221,
   "id": "9dd6514b",
   "metadata": {},
   "outputs": [],
   "source": [
    "resfile.write(f\" Variance of Cauchy distribution when infinity=1000 is {var(cauchypdf,10000)}.\\n\")\n",
    "infinity=10000\n",
    "resfile.write(f\" Variance of Cauchy distribution when infinity=10000 is {var(cauchypdf,100000)}.\\n\")\n",
    "infinity = 100000\n",
    "resfile.write(f\" Variance of Cauchy distribution when infinity=100000 is {var(cauchypdf,1000000)}.\\n\")\n",
    "resfile.write(\"Thus variance tends to infinity \\n\");\n",
    "#variance goes to infinity"
   ]
  },
  {
   "cell_type": "markdown",
   "id": "8795a601",
   "metadata": {},
   "source": [
    "## **Q2**"
   ]
  },
  {
   "cell_type": "markdown",
   "id": "92a99dd7",
   "metadata": {},
   "source": [
    "### Part A"
   ]
  },
  {
   "cell_type": "code",
   "execution_count": 222,
   "id": "7ccf79aa",
   "metadata": {},
   "outputs": [
    {
     "data": {
      "text/plain": [
       "6"
      ]
     },
     "execution_count": 222,
     "metadata": {},
     "output_type": "execute_result"
    }
   ],
   "source": [
    "resfile.write('\\n Q2 \\n')"
   ]
  },
  {
   "cell_type": "code",
   "execution_count": 223,
   "id": "3f702788",
   "metadata": {},
   "outputs": [],
   "source": [
    "X=stats.poisson(3) ##Setting poisson Random Variables with lambda\n",
    "Y=stats.poisson(4)"
   ]
  },
  {
   "cell_type": "markdown",
   "id": "a93b09ca",
   "metadata": {},
   "source": [
    "### Empirically calculate PMF"
   ]
  },
  {
   "cell_type": "code",
   "execution_count": 224,
   "id": "ccd33920",
   "metadata": {},
   "outputs": [],
   "source": [
    "Xrvs=X.rvs(size=1000000, random_state=17) #Draw 10^6 samples and set random state\n",
    "Yrvs=Y.rvs(size=1000000, random_state=151)\n",
    "Zrvs=Xrvs+Yrvs\n",
    "(n,bins,patches)=plt.hist(Zrvs, bins=26,density=True)\n",
    "plt.close()\n",
    "#plot PMF of Zrvs instances to estimate PMF of Z\n",
    "plt.plot([i for i in range(26)],n,'bo')\n",
    "plt.vlines([i for i in range(26)],0,n,colors='b')\n",
    "plt.xlabel('z')\n",
    "plt.ylabel('PMF value')\n",
    "plt.title('Estimate of PMF of Z')\n",
    "plt.savefig('../results/PMF-Z Estimate.jpg',dpi=1200)\n",
    "plt.close();\n"
   ]
  },
  {
   "cell_type": "code",
   "execution_count": 225,
   "id": "656ab47e",
   "metadata": {},
   "outputs": [],
   "source": [
    "resfile.write(\"\\n\");\n"
   ]
  },
  {
   "cell_type": "markdown",
   "id": "c47d3642",
   "metadata": {},
   "source": [
    "### Analytically calculate PMF"
   ]
  },
  {
   "cell_type": "code",
   "execution_count": 226,
   "id": "c8e9f10c",
   "metadata": {},
   "outputs": [],
   "source": [
    "def poissonpmf(l, k): ##computes PMF of poisson distribution with parameters l=lambda and k\n",
    "    return (l**k)*np.exp(-l)/np.math.factorial(k)"
   ]
  },
  {
   "cell_type": "code",
   "execution_count": 227,
   "id": "cea98d31",
   "metadata": {},
   "outputs": [],
   "source": [
    "def poissonsum(poissonpmf,k,xl,yl): ##Theoretically compute sum of 2 poisson variables\n",
    "    result=0\n",
    "    for i in range(0,k+1):\n",
    "        result+=poissonpmf(xl,i)*poissonpmf(yl,k-i)\n",
    "    return result"
   ]
  },
  {
   "cell_type": "code",
   "execution_count": 228,
   "id": "20acadb6",
   "metadata": {
    "scrolled": false
   },
   "outputs": [],
   "source": [
    "list1=[]\n",
    "xrange=[]\n",
    "resfile.write(\"\\n\")\n",
    "for i in range(26): ##Compare actual vs estimated values of P(Z=k)\n",
    "    list1.append(poissonsum(poissonpmf,i,3,4))\n",
    "    xrange.append(i)\n",
    "plt.plot(xrange,n,'bo')\n",
    "plt.vlines(xrange,0,n,lw=0.8,colors='b')\n",
    "plt.plot(xrange,list1,'rv')\n",
    "plt.xlabel('z')\n",
    "plt.ylabel('PMF value')\n",
    "plt.title('Estimated vs Theoretical PMF of Z')\n",
    "plt.legend(['Estimated PMF','Theoretical PMF'])\n",
    "plt.savefig('../results/PMFZ-Est-v-Theo.jpg',dpi=1200)\n",
    "plt.close();\n",
    "for i in range(26): ##report values of P(Z=k)\n",
    "    resfile.write(f\"Estimated P(Z={i}) is {n[i]:.5f}, actual is {list1[i]:.5f} \\n\")"
   ]
  },
  {
   "cell_type": "markdown",
   "id": "1f5e27a7",
   "metadata": {},
   "source": [
    "### Part B"
   ]
  },
  {
   "cell_type": "code",
   "execution_count": 229,
   "id": "1657fdd9",
   "metadata": {},
   "outputs": [],
   "source": [
    "Yrvs=Y.rvs(size=100000, random_state=201) #10^5 instances of Y for second part of Q2"
   ]
  },
  {
   "cell_type": "markdown",
   "id": "8c816893",
   "metadata": {},
   "source": [
    "### Empirically calculate PMF"
   ]
  },
  {
   "cell_type": "code",
   "execution_count": 230,
   "id": "5cf767d2",
   "metadata": {},
   "outputs": [],
   "source": [
    "Zrvs=[] #thinned random variable\n",
    "n1=np.zeros(shape=26)\n",
    "q=0 #random state counter\n",
    "for y in Yrvs:\n",
    "    Zrvs.append(stats.binom.rvs(n=y,p=0.8, random_state=239567+q)) #thinned using binom RV, with probability parameter\n",
    "    q+=1\n",
    "    n1[Zrvs[-1]]+=1\n",
    "n1 = n1/np.sum(n1)"
   ]
  },
  {
   "cell_type": "code",
   "execution_count": 231,
   "id": "8ab791d9",
   "metadata": {},
   "outputs": [],
   "source": [
    "plt.plot(np.linspace(0,25,26),n1,'bo')\n",
    "plt.vlines(np.linspace(0,25,26),0,n1,lw=0.8, colors='b')\n",
    "##Plot estimated PMF of P(Z=k)\n",
    "plt.xlabel('z')\n",
    "plt.ylabel('PMF Value')\n",
    "plt.title('Estimated PMF of thinned RV Z')\n",
    "plt.savefig('../results/estm-PMF-thinned-Z.jpg',dpi=1200)\n",
    "plt.close();"
   ]
  },
  {
   "cell_type": "markdown",
   "id": "96e4d2c2",
   "metadata": {},
   "source": [
    "### Analytically calculate PMF"
   ]
  },
  {
   "cell_type": "code",
   "execution_count": 232,
   "id": "14d717cd",
   "metadata": {
    "scrolled": false
   },
   "outputs": [],
   "source": [
    "def poissonthinningpmf(poissonpmf,l,k,p): #Calculate PMF of thinned variable\n",
    "    mysum = 0\n",
    "    j = k\n",
    "    while True:\n",
    "        sum1 = mysum\n",
    "        mysum += poissonpmf(l,int (j)) * stats.binom.pmf(k,j,p)\n",
    "        if mysum < 1.000001*sum1: ##To check convergence\n",
    "            break\n",
    "        j += 1\n",
    "    return mysum\n",
    "X = np.linspace(0,25,26) #Input X from 0 to 25\n",
    "Z = [] #PMF values for thinned variable calculated analytically\n",
    "for x in X:\n",
    "    Z.append(poissonthinningpmf(poissonpmf, 4, x, 0.8))\n",
    "\n",
    "plt.vlines(X,0,n1,lw=0.8,colors='b')\n",
    "plt.plot(X,n1,'bo') ##ESTIMATED PMF\n",
    "plt.plot(X, Z, 'rv') ##ANALYTICAL PMF\n",
    "plt.xlabel('z')\n",
    "plt.ylabel('PMF Values')\n",
    "plt.title('Thinned Variable Z')\n",
    "plt.legend(['Estimated PMF','Theoretical PMF'])\n",
    "plt.savefig('../results/thinnedZ_estm_theo.jpg',dpi=1200)\n",
    "plt.close();"
   ]
  },
  {
   "cell_type": "code",
   "execution_count": 233,
   "id": "a71964f9",
   "metadata": {},
   "outputs": [],
   "source": [
    "resfile.write('\\n For thinned RV Z \\n')\n",
    "for i in range(26): ##(iii) Compare actual vs estimated values of thinned RV\n",
    "    res=n1[i]\n",
    "    resfile.write(f\"Estimated P(Z={i}) is {res}, actual is {Z[i]:.5f} \\n\")"
   ]
  },
  {
   "cell_type": "markdown",
   "id": "411b1033",
   "metadata": {},
   "source": [
    "## **Q3**\n",
    "### Generate and storing random walkers"
   ]
  },
  {
   "cell_type": "code",
   "execution_count": 234,
   "id": "cf8e3baf",
   "metadata": {},
   "outputs": [],
   "source": [
    "resfile.write('\\n Q3 \\n')\n",
    "N = 10000       ##Simulate 10^4 random walkers\n",
    "n_walks = 1000  #Number of steps\n",
    "step = 0.001    #Step size\n",
    "np.random.seed(123) #Setting random seed\n",
    "walkers = np.zeros(shape=(N, 1)) #N*1 array denoting the position of each walker after each step\n",
    "random_walker_choices = np.random.randint(0,2,(N, n_walks)) #N * n_walks array of randomly chosen 0 or 1\n",
    "\n",
    "for i in range(n_walks):           \n",
    "    #Iterate over colums of 0s & 1s array and for i-th column if the element at the nth row is 0\n",
    "    #then the nth walker takes a step +0.001 else if it is 0, the walker takes step -0.001. And repeat \n",
    "    #this over n_walks number of columns and keep on adding (or subtracting) to the array keeping a \n",
    "    #track of the positions of all walkers.\n",
    "    walkers[random_walker_choices[:,i] == 0] += step \n",
    "    walkers[random_walker_choices[:,i] == 1] -= step\n",
    "(n,bins,patches)=plt.hist(walkers, bins=20)\n",
    "plt.title('Histogram of random walkers')\n",
    "plt.xlabel('Final position of walkers')\n",
    "plt.ylabel('Number of walkers')\n",
    "plt.savefig('../results/hist_walkers.jpg',dpi=1200)\n",
    "plt.close();"
   ]
  },
  {
   "cell_type": "markdown",
   "id": "0e7e3cfc",
   "metadata": {},
   "source": [
    "### Generate space time plots of paths taken by first $10^3$ walkers"
   ]
  },
  {
   "cell_type": "code",
   "execution_count": 235,
   "id": "3d8fbf58",
   "metadata": {},
   "outputs": [],
   "source": [
    "def get_cmap(n, name='hsv'):\n",
    "    '''Returns a function that maps each index in 0, 1, ..., n-1 to a distinct \n",
    "    RGB color; the keyword argument name must be a standard mpl colormap name.'''\n",
    "    return plt.cm.get_cmap(name, n)\n",
    "\n",
    "N1 = 1000 #First 1000 walkers\n",
    "walker_positions = np.zeros(shape=(N1, n_walks)) #Array for walker positions similar as last part\n",
    "\n",
    "##Repeat steps similar to the previous part. Just in this case store position of all walkers after each step\n",
    "for i in range(n_walks-1):\n",
    "    current_positions = walker_positions[:,i]\n",
    "    next_positions = np.zeros(shape=(N1))\n",
    "    next_positions[random_walker_choices[0:N1,i] == 0] = current_positions[random_walker_choices[0:N1,i] == 0] + 0.001\n",
    "    next_positions[random_walker_choices[0:N1,i] == 1] = current_positions[random_walker_choices[0:N1,i] == 1] - 0.001\n",
    "    walker_positions[:,i+1] = next_positions\n",
    "\n",
    "cmap = get_cmap(N1)\n",
    "plt.figure(figsize=(10,6))\n",
    "for i in range(N1):\n",
    "    plt.plot(np.linspace(1,1000,1000), np.transpose(walker_positions[i,:]), '-', c=cmap(np.random.randint(0,N1-1)), lw=0.4)\n",
    "plt.xlabel('Number of Steps')\n",
    "plt.ylabel('Position of walker')\n",
    "plt.title('Space Time Path of Walkers')\n",
    "plt.savefig(\"../results/randomwalks.jpg\", dpi=600)\n",
    "plt.close();"
   ]
  },
  {
   "cell_type": "code",
   "execution_count": 236,
   "id": "2f3fb243",
   "metadata": {},
   "outputs": [],
   "source": [
    "resfile.write(f\"Random Walkers Final Position Mean: {np.mean(walkers):.4f}; Variance: {np.var(walkers):.4f}\\n\");"
   ]
  },
  {
   "cell_type": "markdown",
   "id": "b91e2a2f",
   "metadata": {},
   "source": [
    "### Analytically calculate true mean and true variance"
   ]
  },
  {
   "cell_type": "code",
   "execution_count": 237,
   "id": "0ee1618b",
   "metadata": {},
   "outputs": [],
   "source": [
    "mean1=0 #To compute true mean and variance mathematically\n",
    "varr=0\n",
    "#model step left or right as binomial RV with equal probability for steps in both direction\n",
    "\n",
    "for i in range(n_walks):\n",
    "    p = math.comb(n_walks, i)*(0.5)**n_walks #nCk * (0.5)^k * (0.5)^(n-k); n=n_walks\n",
    "    x = (2*i-n_walks)*step #final position as a function of i (i left steps and (n_walks - i) right steps or vice versa)\n",
    "    mean1 += p*x\n",
    "    varr += p*x*x\n",
    "varr = varr - mean1**2\n",
    "resfile.write(f\"True Mean: {mean1:.4f}; True Variance: {varr:.4f}\\n\");\n",
    "resfile.write(f\"Error in Mean: {abs(np.mean(walkers)-mean1):.4f}\\n Error in Variance: {abs(np.var(walkers)-varr):.4f}\\n\");"
   ]
  },
  {
   "cell_type": "markdown",
   "id": "c78ba4c8",
   "metadata": {},
   "source": [
    "## **Q4**\n",
    "### Generate independent draws from M-function distribution"
   ]
  },
  {
   "cell_type": "code",
   "execution_count": 238,
   "id": "4f7752a1",
   "metadata": {},
   "outputs": [],
   "source": [
    "resfile.write('\\n')\n",
    "def Mfunction(x): #compute P(X=x) where X has M distribution\n",
    "    if abs(x)>1:\n",
    "        return 0\n",
    "    else:\n",
    "        return abs(x)\n",
    "np.random.seed(0) #set random seed\n",
    "\n",
    "def rvMfunction(n): #function to draw RVs of M distribution (n is the number of independent draws)\n",
    "    rv = []\n",
    "    for i in range(n):\n",
    "        x = np.random.rand()\n",
    "        y = np.random.rand()\n",
    "        if(x-y > 0):\n",
    "            rv.append(1-(x-y))\n",
    "        else:\n",
    "            rv.append(-1-(x-y))\n",
    "    return rv"
   ]
  },
  {
   "cell_type": "markdown",
   "id": "6c16d8ae",
   "metadata": {},
   "source": [
    "### Plot histogram and CDF of M-function distribution"
   ]
  },
  {
   "cell_type": "code",
   "execution_count": 239,
   "id": "fe6dcad4",
   "metadata": {},
   "outputs": [],
   "source": [
    "n_draws = 100000    #10^5 draws\n",
    "n_bins = 200        #200 bins\n",
    "(n1,bins,patches)=plt.hist(rvMfunction(n_draws), bins=n_bins, density=True) \n",
    "#Histogram from random draws which estimates the PDF of X\n",
    "plt.xlabel('x')\n",
    "plt.ylabel('P(X=x) [PMF of X]')\n",
    "plt.title('Histogram')\n",
    "plt.savefig('../results/M-hist.jpg',dpi=1200)\n",
    "plt.close();"
   ]
  },
  {
   "cell_type": "code",
   "execution_count": 240,
   "id": "acbd2a97",
   "metadata": {},
   "outputs": [],
   "source": [
    "def Cdf(n): #Compute CDF of M\n",
    "    cdfM = np.zeros(shape=n_bins)\n",
    "    for i in range(n_bins):\n",
    "        if i==0:\n",
    "            cdfM[i] = n[i]\n",
    "        else:\n",
    "            cdfM[i] = n[i]+cdfM[i-1]\n",
    "    cdfM = cdfM/(n_bins * np.mean(n)) #Accounts for scaling and stepsize for Riemann Sum\n",
    "    return cdfM\n",
    "plt.plot(np.linspace(-1,1,n_bins),Cdf(n1),'r-')\n",
    "plt.xlabel('x')\n",
    "plt.ylabel('CDF of X')\n",
    "plt.title('M Distribution')\n",
    "plt.savefig('../results/Mcdf.jpg',dpi=1200)\n",
    "plt.close();"
   ]
  },
  {
   "cell_type": "markdown",
   "id": "36ff3106",
   "metadata": {},
   "source": [
    "### Generate independent draws for $Y_N = \\sum_{i=1}^N X_i /N$, where $X$ follows M-function distribution"
   ]
  },
  {
   "cell_type": "code",
   "execution_count": 241,
   "id": "24c9c88f",
   "metadata": {},
   "outputs": [],
   "source": [
    "def mean_rvMfunction(n, n_draws): \n",
    "    #Compute draws from Y. \n",
    "    #n_draws is the number of draws that we want\n",
    "    #n is the number of Xns that we have\n",
    "\n",
    "    Y = np.zeros(shape=(n, n_draws))\n",
    "    for i in range(n):\n",
    "        Y[i,:] = rvMfunction(n_draws) #use M distribution RV instances draw function\n",
    "\n",
    "    #Each row of Y corresponds to a n_draws of a RV Xi.\n",
    "    Ymean = np.mean(Y,axis=0) #Compute mean of those instances along columns\n",
    "    return Ymean"
   ]
  },
  {
   "cell_type": "markdown",
   "id": "d10d5f58",
   "metadata": {},
   "source": [
    "### Plot histograms and CDFs of $Y_N$ for various values of $N$"
   ]
  },
  {
   "cell_type": "code",
   "execution_count": 242,
   "id": "46d502ac",
   "metadata": {},
   "outputs": [],
   "source": [
    "#PLOT HISTOGRAMS OF PDFs OF Y\n",
    "fig, ax = plt.subplots(3,2, figsize=(20,20)) #subplots\n",
    "fig.suptitle('Histograms',size=20)\n",
    "n = np.zeros(shape=(6, n_bins))\n",
    "for i in range(6):\n",
    "    n_draws = 10000 #10^4 draws\n",
    "    n_bins = 200    #200 bins\n",
    "    (n[i,:],bins,patches)=ax[i//2][i%2].hist(mean_rvMfunction(2**(i+1), n_draws), bins=n_bins, density=True)\n",
    "    ax[i//2][i%2].set_title(f\"n = {2**(i+1)}\")\n",
    "    ax[i//2][i%2].set_ylabel('PDF of Y',size=12)\n",
    "fig.savefig(\"../results/Mfunction_mean_pdf.jpg\", dpi=300)\n",
    "plt.close();"
   ]
  },
  {
   "cell_type": "code",
   "execution_count": 243,
   "id": "f85440d4",
   "metadata": {},
   "outputs": [],
   "source": [
    "##Plot CDFs of Y\n",
    "c1=['red','orange','green','black','grey','violet','blue']\n",
    "for i in range(7):\n",
    "    if i == 0:\n",
    "        plt.plot(np.linspace(-1,1,n_bins),Cdf(n1),c=c1[i])\n",
    "    else:\n",
    "        n[i-1,:]=n[i-1,:]/np.mean(n[i-1,:])\n",
    "        plt.plot(np.linspace(-1,1,n_bins), Cdf(n[i-1,:]), c=c1[i])\n",
    "plt.legend([f'N={2**i}' for i in range(7)])\n",
    "plt.xlabel('y')\n",
    "plt.ylabel('CDF Values')\n",
    "plt.title('CDFs of Y for different N')\n",
    "plt.savefig(\"../results/Mfunction_mean_cdf.jpg\", dpi=1200)\n",
    "plt.close();"
   ]
  },
  {
   "cell_type": "markdown",
   "id": "4103d458",
   "metadata": {},
   "source": [
    "# **Q5**"
   ]
  },
  {
   "cell_type": "markdown",
   "id": "f0f74c64",
   "metadata": {},
   "source": [
    "### Generate box and whisker plot for uniform distribution"
   ]
  },
  {
   "cell_type": "code",
   "execution_count": 244,
   "id": "c654c7a7",
   "metadata": {},
   "outputs": [],
   "source": [
    "np.random.seed(232937)\n",
    "def meanestm(n,m=100): #Mean estimate. n is the given N. m=100 exps\n",
    "    res=np.zeros(shape=m)\n",
    "    nrvs=np.random.uniform(size=(n,m))\n",
    "    #Each row contains M exps of a uniformly distribution RV\n",
    "    #There are N such rows signifying the given N dataset sizes.\n",
    "\n",
    "    res=np.mean(nrvs, axis=0) #Compute mean along each column corresponding to each experiment\n",
    "    return abs(res-0.5)       #Known mean of uniform distribution is 0.5 so return the error\n",
    "values=[5, 10, 20, 40, 60, 80, 100, 500, 1000,10000]\n",
    "data = []\n",
    "for i in range(len(values)):\n",
    "    data.append(meanestm(values[i]))\n",
    "plt.boxplot(data)\n",
    "plt.xlabel(\"N\")\n",
    "plt.title('Boxplot (Uniform Distribution)')\n",
    "plt.ylabel('Error in Mean')\n",
    "plt.xticks(ticks=[1,2,3,4,5,6,7,8,9,10], labels=[str(i) for i in values])\n",
    "plt.savefig('../results/boxplot_uniform.jpg',dpi=1200)\n",
    "plt.close();"
   ]
  },
  {
   "cell_type": "markdown",
   "id": "40e0cbe0",
   "metadata": {},
   "source": [
    "### Generate box and whisker plot for gaussian distribution ($\\mu =0$ and $\\sigma^2=1$)"
   ]
  },
  {
   "cell_type": "code",
   "execution_count": 245,
   "id": "3fcfd16e",
   "metadata": {},
   "outputs": [],
   "source": [
    "#Follow all steps as previous part. Just replace random number generation from uniform distribution by\n",
    "# random number generation from Gaussian distribution\n",
    "def mean_gauss(n,m=100): #Mean estimate of gaussian distribution. Input parameters same as previous part.\n",
    "    res=np.zeros(shape=m)\n",
    "    nrvs=stats.norm.rvs(size=(n,m), random_state=10,loc=0,scale=1)\n",
    "    res=np.mean(nrvs, axis=0) #True mean is 0\n",
    "    return abs(res)\n",
    "values=[5, 10, 20, 40, 60, 80, 100, 500, 1000,10000]\n",
    "data = []\n",
    "for i in range(len(values)):\n",
    "    data.append(mean_gauss(values[i]))\n",
    "plt.boxplot(data)\n",
    "plt.xlabel(\"N\")\n",
    "plt.xticks(ticks=[1,2,3,4,5,6,7,8,9,10], labels=[str(i) for i in values])\n",
    "plt.title('Boxplot (Gaussian Distribution)')\n",
    "plt.ylabel('Error in Mean')\n",
    "plt.savefig('../results/boxplot_gauss.jpg',dpi=1200)\n",
    "plt.close();"
   ]
  },
  {
   "cell_type": "markdown",
   "id": "4e40874f",
   "metadata": {},
   "source": [
    "### Close results.txt file"
   ]
  },
  {
   "cell_type": "code",
   "execution_count": 246,
   "id": "605ca781",
   "metadata": {},
   "outputs": [],
   "source": [
    "resfile.close()"
   ]
  }
 ],
 "metadata": {
  "kernelspec": {
   "display_name": "Python 3.10.2 64-bit",
   "language": "python",
   "name": "python3"
  },
  "language_info": {
   "codemirror_mode": {
    "name": "ipython",
    "version": 3
   },
   "file_extension": ".py",
   "mimetype": "text/x-python",
   "name": "python",
   "nbconvert_exporter": "python",
   "pygments_lexer": "ipython3",
   "version": "3.10.2"
  },
  "vscode": {
   "interpreter": {
    "hash": "d1b90c5335d2d59695677ba92f1496bd07d6c722efa78d3dbe62c862e9c0f695"
   }
  }
 },
 "nbformat": 4,
 "nbformat_minor": 5
}
